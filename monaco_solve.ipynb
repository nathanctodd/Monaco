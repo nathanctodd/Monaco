{
 "cells": [
  {
   "cell_type": "code",
   "execution_count": 1,
   "metadata": {},
   "outputs": [],
   "source": [
    "import numpy as np\n",
    "import matplotlib.pyplot as plt\n",
    "from scipy.integrate import solve_ivp\n",
    "from scipy.integrate import solve_bvp\n"
   ]
  },
  {
   "cell_type": "code",
   "execution_count": null,
   "metadata": {},
   "outputs": [],
   "source": [
    "track_points = np.column_stack((x_smooth / 20, y_smooth / 20))\n",
    "\n",
    "seg_start = track_points[:-1]\n",
    "seg_end   = track_points[1:]\n",
    "seg_vec   = seg_end - seg_start\n",
    "seg_len_sq = np.sum(seg_vec**2, axis=1)\n",
    "\n",
    "def track_cost(x, y):\n",
    "    Q = np.array([x, y])\n",
    "    \n",
    "    # Vector from start of each segment to Q\n",
    "    w = Q - seg_start\n",
    "\n",
    "    # Project w onto each segment vector\n",
    "    # t_i = (w . seg_vec) / (seg_vec . seg_vec)\n",
    "    t = np.sum(w * seg_vec, axis=1) / seg_len_sq\n",
    "\n",
    "    # Clamp t to [0, 1] so projection stays within each segment\n",
    "    t = np.clip(t, 0.0, 1.0)\n",
    "\n",
    "    # Compute the projection point on each segment\n",
    "    proj = seg_start + (t[:, np.newaxis] * seg_vec)\n",
    "\n",
    "    # Compute squared distances from Q to each projection\n",
    "    dists_sq = np.sum((Q - proj)**2, axis=1)\n",
    "\n",
    "    # The distance to the track is the minimum distance to any segment\n",
    "    min_dist = np.sqrt(np.min(dists_sq))\n",
    "\n",
    "    cost = min_dist**10\n",
    "\n",
    "    return cost"
   ]
  }
 ],
 "metadata": {
  "kernelspec": {
   "display_name": "ACME",
   "language": "python",
   "name": "python3"
  },
  "language_info": {
   "codemirror_mode": {
    "name": "ipython",
    "version": 3
   },
   "file_extension": ".py",
   "mimetype": "text/x-python",
   "name": "python",
   "nbconvert_exporter": "python",
   "pygments_lexer": "ipython3",
   "version": "3.10.13"
  }
 },
 "nbformat": 4,
 "nbformat_minor": 2
}
